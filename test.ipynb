{
 "cells": [
  {
   "cell_type": "code",
   "execution_count": 6,
   "id": "1a210afd",
   "metadata": {},
   "outputs": [
    {
     "data": {
      "text/plain": [
       "'dataset2/keyframe2/image_02/0000000626.png'"
      ]
     },
     "execution_count": 6,
     "metadata": {},
     "output_type": "execute_result"
    }
   ],
   "source": [
    "import os\n",
    "\n",
    "def readlines(filename):\n",
    "    \"\"\"Read all the lines in a text file and return as a list\n",
    "    \"\"\"\n",
    "    with open(filename, 'r') as f:\n",
    "        lines = f.read().splitlines()\n",
    "    return lines\n",
    "\n",
    "fpath = \"./splits/endovis/train.txt\"\n",
    "train_filenames = readlines(fpath)\n",
    "filenames = train_filenames[0]\n",
    "line = filenames.split()\n",
    "\n",
    "def get_image_path(folder, frame_index):\n",
    "    f_str = \"{:010d}.png\".format(frame_index)\n",
    "    image_path = os.path.join(folder, \"image_02/\", f_str)\n",
    "    return image_path\n",
    "\n",
    "folder = line[0]\n",
    "frame_index = int(line[1])\n",
    "tar_img_path = get_image_path(folder, frame_index)\n",
    "tar_img_path"
   ]
  }
 ],
 "metadata": {
  "kernelspec": {
   "display_name": "pc_depth_env",
   "language": "python",
   "name": "python3"
  },
  "language_info": {
   "codemirror_mode": {
    "name": "ipython",
    "version": 3
   },
   "file_extension": ".py",
   "mimetype": "text/x-python",
   "name": "python",
   "nbconvert_exporter": "python",
   "pygments_lexer": "ipython3",
   "version": "3.8.20"
  }
 },
 "nbformat": 4,
 "nbformat_minor": 5
}
